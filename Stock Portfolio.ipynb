{
 "cells": [
  {
   "cell_type": "code",
   "execution_count": 1,
   "id": "39330091-f07b-486a-bc98-9d6185bbb700",
   "metadata": {},
   "outputs": [
    {
     "name": "stdout",
     "output_type": "stream",
     "text": [
      "\n",
      "Options:\n",
      "1. Add Stock\n",
      "2. Remove Stock\n",
      "3. Update Portfolio\n",
      "4. Display Portfolio\n",
      "5. Exit\n"
     ]
    },
    {
     "name": "stdin",
     "output_type": "stream",
     "text": [
      "Choose an option:  1\n",
      "Enter stock symbol (e.g., AAPL):  AAPL\n",
      "Enter number of shares:  10\n",
      "Enter purchase price per share:  150\n"
     ]
    },
    {
     "name": "stdout",
     "output_type": "stream",
     "text": [
      "\n",
      "Options:\n",
      "1. Add Stock\n",
      "2. Remove Stock\n",
      "3. Update Portfolio\n",
      "4. Display Portfolio\n",
      "5. Exit\n"
     ]
    },
    {
     "name": "stdin",
     "output_type": "stream",
     "text": [
      "Choose an option:  2\n",
      "Enter stock symbol to remove:  AAPL\n"
     ]
    },
    {
     "name": "stdout",
     "output_type": "stream",
     "text": [
      "\n",
      "Options:\n",
      "1. Add Stock\n",
      "2. Remove Stock\n",
      "3. Update Portfolio\n",
      "4. Display Portfolio\n",
      "5. Exit\n"
     ]
    },
    {
     "name": "stdin",
     "output_type": "stream",
     "text": [
      "Choose an option:  3\n"
     ]
    },
    {
     "name": "stdout",
     "output_type": "stream",
     "text": [
      "Portfolio updated.\n",
      "\n",
      "Options:\n",
      "1. Add Stock\n",
      "2. Remove Stock\n",
      "3. Update Portfolio\n",
      "4. Display Portfolio\n",
      "5. Exit\n"
     ]
    },
    {
     "name": "stdin",
     "output_type": "stream",
     "text": [
      "Choose an option:  4\n"
     ]
    },
    {
     "name": "stdout",
     "output_type": "stream",
     "text": [
      "\n",
      "The portfolio is empty.\n",
      "\n",
      "Options:\n",
      "1. Add Stock\n",
      "2. Remove Stock\n",
      "3. Update Portfolio\n",
      "4. Display Portfolio\n",
      "5. Exit\n"
     ]
    },
    {
     "name": "stdin",
     "output_type": "stream",
     "text": [
      "Choose an option:  6\n"
     ]
    },
    {
     "name": "stdout",
     "output_type": "stream",
     "text": [
      "Invalid choice. Please try again.\n",
      "\n",
      "Options:\n",
      "1. Add Stock\n",
      "2. Remove Stock\n",
      "3. Update Portfolio\n",
      "4. Display Portfolio\n",
      "5. Exit\n"
     ]
    },
    {
     "name": "stdin",
     "output_type": "stream",
     "text": [
      "Choose an option:  7\n"
     ]
    },
    {
     "name": "stdout",
     "output_type": "stream",
     "text": [
      "Invalid choice. Please try again.\n",
      "\n",
      "Options:\n",
      "1. Add Stock\n",
      "2. Remove Stock\n",
      "3. Update Portfolio\n",
      "4. Display Portfolio\n",
      "5. Exit\n"
     ]
    },
    {
     "name": "stdin",
     "output_type": "stream",
     "text": [
      "Choose an option:  5\n"
     ]
    }
   ],
   "source": [
    "import random\n",
    "\n",
    "class StockPortfolio:\n",
    "    def __init__(self):\n",
    "        self.portfolio = []\n",
    "\n",
    "    def add_stock(self, symbol, shares, purchase_price):\n",
    "        current_price = random.uniform(purchase_price * 0.8, purchase_price * 1.2)  # Simulate current price\n",
    "        total_value = shares * current_price\n",
    "        profit_loss = (current_price - purchase_price) * shares\n",
    "        new_stock = {\n",
    "            'Symbol': symbol,\n",
    "            'Shares': shares,\n",
    "            'Purchase Price': purchase_price,\n",
    "            'Current Price': current_price,\n",
    "            'Total Value': total_value,\n",
    "            'Profit/Loss': profit_loss\n",
    "        }\n",
    "        self.portfolio.append(new_stock)\n",
    "\n",
    "    def remove_stock(self, symbol):\n",
    "        self.portfolio = [stock for stock in self.portfolio if stock['Symbol'] != symbol]\n",
    "\n",
    "    def update_portfolio(self):\n",
    "        for stock in self.portfolio:\n",
    "            stock['Current Price'] = random.uniform(stock['Purchase Price'] * 0.8, stock['Purchase Price'] * 1.2)  # Simulate price change\n",
    "            stock['Total Value'] = stock['Shares'] * stock['Current Price']\n",
    "            stock['Profit/Loss'] = (stock['Current Price'] - stock['Purchase Price']) * stock['Shares']\n",
    "\n",
    "    def display_portfolio(self):\n",
    "        if not self.portfolio:\n",
    "            print(\"\\nThe portfolio is empty.\")\n",
    "            return\n",
    "        \n",
    "        print(\"\\nStock Portfolio:\")\n",
    "        for stock in self.portfolio:\n",
    "            print(f\"Symbol: {stock['Symbol']}, Shares: {stock['Shares']}, Purchase Price: {stock['Purchase Price']:.2f}, \"\n",
    "                  f\"Current Price: {stock['Current Price']:.2f}, Total Value: {stock['Total Value']:.2f}, \"\n",
    "                  f\"Profit/Loss: {stock['Profit/Loss']:.2f}\")\n",
    "\n",
    "def main():\n",
    "    portfolio = StockPortfolio()\n",
    "\n",
    "    while True:\n",
    "        print(\"\\nOptions:\")\n",
    "        print(\"1. Add Stock\")\n",
    "        print(\"2. Remove Stock\")\n",
    "        print(\"3. Update Portfolio\")\n",
    "        print(\"4. Display Portfolio\")\n",
    "        print(\"5. Exit\")\n",
    "\n",
    "        choice = input(\"Choose an option: \")\n",
    "\n",
    "        if choice == '1':\n",
    "            symbol = input(\"Enter stock symbol (e.g., AAPL): \").upper()\n",
    "            shares = int(input(\"Enter number of shares: \"))\n",
    "            purchase_price = float(input(\"Enter purchase price per share: \"))\n",
    "            portfolio.add_stock(symbol, shares, purchase_price)\n",
    "\n",
    "        elif choice == '2':\n",
    "            symbol = input(\"Enter stock symbol to remove: \").upper()\n",
    "            portfolio.remove_stock(symbol)\n",
    "\n",
    "        elif choice == '3':\n",
    "            portfolio.update_portfolio()\n",
    "            print(\"Portfolio updated.\")\n",
    "\n",
    "        elif choice == '4':\n",
    "            portfolio.display_portfolio()\n",
    "\n",
    "        elif choice == '5':\n",
    "            break\n",
    "\n",
    "        else:\n",
    "            print(\"Invalid choice. Please try again.\")\n",
    "\n",
    "if __name__ == \"__main__\":\n",
    "    main()"
   ]
  },
  {
   "cell_type": "code",
   "execution_count": null,
   "id": "008e383a-ef48-4e26-b9cd-25edc39dad07",
   "metadata": {},
   "outputs": [],
   "source": []
  }
 ],
 "metadata": {
  "kernelspec": {
   "display_name": "Python 3 (ipykernel)",
   "language": "python",
   "name": "python3"
  },
  "language_info": {
   "codemirror_mode": {
    "name": "ipython",
    "version": 3
   },
   "file_extension": ".py",
   "mimetype": "text/x-python",
   "name": "python",
   "nbconvert_exporter": "python",
   "pygments_lexer": "ipython3",
   "version": "3.12.4"
  }
 },
 "nbformat": 4,
 "nbformat_minor": 5
}
